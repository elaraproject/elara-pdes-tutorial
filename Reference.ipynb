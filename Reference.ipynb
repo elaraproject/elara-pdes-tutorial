{
 "cells": [
  {
   "cell_type": "markdown",
   "id": "547467b2-0000-47af-8a64-5891279b19b6",
   "metadata": {},
   "source": [
    "# Solving neural networks with PINNs"
   ]
  },
  {
   "attachments": {},
   "cell_type": "markdown",
   "id": "abe81ac1-1d0b-4447-98e9-497554d1496f",
   "metadata": {},
   "source": [
    "This is a demonstration of using PINNS to solve two initial-boundary values for the one-dimensional wave equation, $u_{tt} = c^2 u_{xx}$, as well as the nonlinear one-dimensional wave equation $u_{tt} = c^2 u_{xx} + \\epsilon u^2$. We use the free and open-source [PINA library](https://mathlab.github.io/PINA/) for this purpose."
   ]
  },
  {
   "cell_type": "code",
   "execution_count": 191,
   "id": "161d8ef6-f9fa-4c1c-9b66-e04c3f8cfe24",
   "metadata": {},
   "outputs": [],
   "source": [
    "import torch\n",
    "import numpy as np\n",
    "import matplotlib.pyplot as plt\n",
    "from matplotlib.animation import FuncAnimation\n",
    "import warnings\n",
    "import pickle\n",
    "from tqdm import tqdm, trange\n",
    "\n",
    "from pina import Condition, LabelTensor, Trainer\n",
    "from pina.problem import SpatialProblem, TimeDependentProblem\n",
    "from pina.operator import laplacian, grad\n",
    "from pina.domain import CartesianDomain\n",
    "from pina.model import FeedForward\n",
    "from pina.model.block import PeriodicBoundaryEmbedding\n",
    "from pina.loss import LpLoss\n",
    "from pina.solver import PINN\n",
    "from pina.equation import Equation, FixedValue\n",
    "from pina.callback import MetricTracker\n",
    "from pina.optim import TorchOptimizer"
   ]
  },
  {
   "cell_type": "code",
   "execution_count": 2,
   "id": "8003d7cb-e844-4a27-9c37-39526a2cf1e1",
   "metadata": {},
   "outputs": [],
   "source": [
    "%matplotlib inline\n",
    "plt.rcParams[\"font.family\"] = \"serif\"\n",
    "plt.rcParams['mathtext.fontset'] = 'stix'\n",
    "plt.rcParams['figure.autolayout'] = True\n",
    "plt.rcParams[\"axes.grid\"] = True"
   ]
  },
  {
   "cell_type": "code",
   "execution_count": 3,
   "id": "531284c5-2f3c-4000-9cbc-3401a2eca50a",
   "metadata": {},
   "outputs": [],
   "source": [
    "infty = 20 # represented by a big number (but here I've kept it small for performance)\n",
    "t_end = 10"
   ]
  },
  {
   "cell_type": "code",
   "execution_count": 5,
   "id": "4bc4d8f3-fefc-4586-8119-406cff8d786f",
   "metadata": {},
   "outputs": [],
   "source": [
    "constants = {\n",
    "    \"c\": 1.0,\n",
    "    \"A\": 3.0,\n",
    "    \"beta\": 3.0,\n",
    "    \"t_end\": 10.0,\n",
    "    \"epsilon\": 1E-3,\n",
    "    \"period\": 1.5\n",
    "}"
   ]
  },
  {
   "cell_type": "code",
   "execution_count": 157,
   "id": "cb3e6872-a20e-4ed7-90fd-55b521243422",
   "metadata": {},
   "outputs": [],
   "source": [
    "# utility function for plotting & visualization\n",
    "\n",
    "@torch.no_grad()\n",
    "def plot_solution(solver, time, savename=None, A=constants[\"A\"], analytical_exists=True, ylim=None):\n",
    "    # get spatial points\n",
    "    problem = solver.problem\n",
    "    spatial_samples = problem.spatial_domain.sample(3000, \"grid\")\n",
    "    # get temporal value\n",
    "    time = LabelTensor(torch.tensor([[time]]), \"t\")\n",
    "    # cross data\n",
    "    points = spatial_samples.append(time, mode=\"cross\")\n",
    "    # compute pinn solution, true solution and absolute difference\n",
    "    # plot the solution\n",
    "    title = f\"Neural network solution at time $t={time.item():.2f}$\"\n",
    "    predicted_solution = solver(points)\n",
    "    plt.plot(points.extract(\"x\"), predicted_solution, label=\"Predicted solution\")\n",
    "    if analytical_exists:\n",
    "        true_solution = problem.solution(points)\n",
    "        mae = torch.max(torch.abs(predicted_solution - true_solution)).item()\n",
    "        title += f\"\\nMax absolute error: {float(mae):.3f}\"\n",
    "        plt.title(title)\n",
    "        plt.plot(points.extract(\"x\"), true_solution, linestyle=\"dashed\", label=\"True solution\")\n",
    "    else:\n",
    "        plt.title(title)\n",
    "    plt.xlabel(\"$x$\")\n",
    "    plt.ylabel(r\"$u\\,(x, t)$\")\n",
    "    if not ylim:\n",
    "        plt.ylim(0, A + 0.5) # default vertical bounds\n",
    "    else:\n",
    "        plt.ylim(*ylim)\n",
    "    plt.legend()\n",
    "    if not savename:\n",
    "        plt.show()\n",
    "    else:\n",
    "        plt.savefig(savename)\n",
    "        plt.cla()"
   ]
  },
  {
   "cell_type": "markdown",
   "id": "9cd5f19f-0c8c-4367-8414-af1f2bbc5fba",
   "metadata": {},
   "source": [
    "## Wave equation with Gaussian bump\n",
    "\n",
    "In this first part, we consider the standard wave equation $u_{tt} = c^2 u_{xx}$ with the following initial and boundary conditions:\n",
    "\n",
    "$$\n",
    "\\begin{gather*}\n",
    "u(x, 0) = A e^{-\\beta x^2} \\\\\n",
    "\\dfrac{\\partial u}{\\partial t}(x, 0) = 0 \\\\\n",
    "u(-\\infty, t) = u(\\infty, t) = 0 \\\\\n",
    "x \\in (-\\infty, \\infty)\n",
    "\\end{gather*}\n",
    "$$\n",
    "\n",
    "The analytical solution to this BVP is given by:\n",
    "\n",
    "$$\n",
    "u(x, t) =\\frac{A}{2}\\left(e^{-\\beta\\left(x+ct\\right)^{2}}+e^{-\\beta\\left(x-ct\\right)^{2}}\\right)\n",
    "$$"
   ]
  },
  {
   "cell_type": "code",
   "execution_count": 171,
   "id": "cb5bcdca-b321-488e-aad6-f11d5f2c10f5",
   "metadata": {},
   "outputs": [],
   "source": [
    "def wave_equation(input_, output_, c=constants[\"c\"]):\n",
    "    u_t = grad(output_, input_, components=[\"u\"], d=[\"t\"])\n",
    "    u_tt = grad(u_t, input_, components=[\"dudt\"], d=[\"t\"])\n",
    "    u_x = grad(output_, input_, components=[\"u\"], d=[\"x\"])\n",
    "    u_xx = grad(u_x, input_, components=[\"dudx\"], d=[\"x\"])\n",
    "    return u_tt - c**2 * u_xx\n",
    "\n",
    "def initial_cond_1(input_, output_, A=constants[\"A\"], beta=constants[\"beta\"]):\n",
    "    # u(x, 0) = A * exp(-beta * x^2)\n",
    "    u = output_.extract([\"u\"])\n",
    "    x = input_.extract([\"x\"])\n",
    "    u_expected = A * torch.exp(-beta * x**2)\n",
    "    return u_expected - u\n",
    "\n",
    "def initial_cond_2(input_, output_):\n",
    "    # u_x(x, 0) = 0\n",
    "    # this is always true at x = 0 for all times\n",
    "    u_t = grad(output_, input_, components=[\"u\"], d=[\"t\"])\n",
    "    u_t_expected = 0\n",
    "    return u_t_expected - u_t\n",
    "\n",
    "def positive_cond(input_, output_):\n",
    "    # make sure that solution is always > 0\n",
    "    u = output_.extract([\"u\"])\n",
    "    return torch.abs(u) - u"
   ]
  },
  {
   "cell_type": "code",
   "execution_count": null,
   "id": "e53bb98e-309d-44c4-8bcd-7995b9a2d0a3",
   "metadata": {},
   "outputs": [],
   "source": [
    "\n",
    "    }\n",
    "\n",
    "    conditions = {\n",
    "        \"D\": Condition(domain=\"D\", equation=Equation(wave_equation_nonlinear)),\n",
    "        \"ic1\": Condition(domain=\"D0\", equation=Equation(initial_cond_1)),\n",
    "        \"ic2\": Condition(domain=\"Dx0\", equation=Equation(initial_cond_2)),\n",
    "        \n",
    "    }"
   ]
  },
  {
   "cell_type": "code",
   "execution_count": 205,
   "id": "3b67d14d-2ce9-498b-81f7-08054b5681ae",
   "metadata": {},
   "outputs": [],
   "source": [
    "class WaveEquationGaussian(SpatialProblem, TimeDependentProblem):\n",
    "    output_variables = [\"u\"]\n",
    "    t_end=constants[\"t_end\"]\n",
    "    dx = 0.01\n",
    "    spatial_domain = CartesianDomain({\"x\": [-infty, infty]})\n",
    "    temporal_domain = CartesianDomain({\"t\": [0.0, t_end]})\n",
    "    domains = {\n",
    "        \"D\": CartesianDomain({\"x\": [-infty, infty], \"t\": [0.0, t_end]}), # general domain\n",
    "        \"D0\": CartesianDomain({\"x\": [-infty, infty], \"t\": 0.0}), # initial cond. 1\n",
    "        \"Dx0\": CartesianDomain({\"x\": [-infty, infty], \"t\": 0.0}), # initial cond. 2\n",
    "        \"Positive\": CartesianDomain({\"x\": [-infty, infty], \"t\": [0.0, t_end]}),\n",
    "        \"central\": CartesianDomain({\"x\": [-dx, dx], \"t\": 0.0})\n",
    "    }\n",
    "\n",
    "    conditions = {\n",
    "        \"D\": Condition(domain=\"D\", equation=Equation(wave_equation)),\n",
    "        \"ic1\": Condition(domain=\"D0\", equation=Equation(initial_cond_1)),\n",
    "        \"ic2\": Condition(domain=\"Dx0\", equation=Equation(initial_cond_2)),\n",
    "        \"pos_constraint\": Condition(domain=\"Positive\", equation=Equation(positive_cond)),\n",
    "        \"central_fixed\": Condition(domain=\"central\", equation=Equation(central_point_cond))\n",
    "    }\n",
    "\n",
    "    def solution(self, pts, A=constants[\"A\"], beta=constants[\"beta\"], c=constants[\"c\"]):\n",
    "        x = pts.extract([\"x\"])\n",
    "        t = pts.extract([\"t\"])\n",
    "        leftwave = A * torch.exp(-beta*(x - c*t)**2)\n",
    "        rightwave = A * torch.exp(-beta*(x + c*t)**2)\n",
    "        return 1/2 * (leftwave + rightwave)\n",
    "        # return torch.sin(torch.pi * pts) * torch.cos(3.0 * torch.pi * pts)"
   ]
  },
  {
   "cell_type": "code",
   "execution_count": 224,
   "id": "d4fa7cad-a797-454f-a1ae-db7946b92660",
   "metadata": {},
   "outputs": [],
   "source": [
    "wave_problem = WaveEquationGaussian()"
   ]
  },
  {
   "cell_type": "code",
   "execution_count": 233,
   "id": "682e1bfa-2b95-459d-94c3-105600b11254",
   "metadata": {},
   "outputs": [],
   "source": [
    "wave_problem.discretise_domain(8000, \"random\", domains=\"all\")"
   ]
  },
  {
   "cell_type": "code",
   "execution_count": 234,
   "id": "00e5760d-71f6-4c46-9286-28ebb4b68b9b",
   "metadata": {},
   "outputs": [],
   "source": [
    "model = FeedForward(len(wave_problem.input_variables), len(wave_problem.output_variables))\n",
    "# model = HardMLP(len(wave_problem.input_variables), len(wave_problem.output_variables))"
   ]
  },
  {
   "cell_type": "code",
   "execution_count": 235,
   "id": "92ef0725-272d-4e0e-bbf6-d280a819a269",
   "metadata": {},
   "outputs": [],
   "source": [
    "pinn = PINN(problem=wave_problem, model=model)"
   ]
  },
  {
   "cell_type": "code",
   "execution_count": 236,
   "id": "7e6f0b12-4432-4c88-9a6e-a8d9086e5917",
   "metadata": {},
   "outputs": [
    {
     "name": "stderr",
     "output_type": "stream",
     "text": [
      "You are using the plain ModelCheckpoint callback. Consider using LitModelCheckpoint which with seamless uploading to Model registry.\n",
      "GPU available: False, used: False\n",
      "TPU available: False, using: 0 TPU cores\n",
      "HPU available: False, using: 0 HPUs\n"
     ]
    }
   ],
   "source": [
    "trainer = Trainer(\n",
    "    solver=pinn,\n",
    "    max_epochs=3000,\n",
    "    accelerator=\"cpu\",\n",
    "    enable_model_summary=True,\n",
    "    train_size=1.0,\n",
    ")"
   ]
  },
  {
   "cell_type": "code",
   "execution_count": 237,
   "id": "e26e3c5c-cf07-47de-9a05-12cb4fe269d9",
   "metadata": {
    "scrolled": true
   },
   "outputs": [
    {
     "name": "stderr",
     "output_type": "stream",
     "text": [
      "C:\\Users\\Jacky\\AppData\\Local\\Programs\\Python\\Python312\\Lib\\site-packages\\lightning\\pytorch\\trainer\\configuration_validator.py: PossibleUserWarning: You defined a `validation_step` but have no `val_dataloader`. Skipping val loop.\n",
      "\n",
      "  | Name         | Type       | Params | Mode \n",
      "----------------------------------------------------\n",
      "0 | _pina_models | ModuleList | 501    | train\n",
      "1 | _loss        | MSELoss    | 0      | train\n",
      "----------------------------------------------------\n",
      "501       Trainable params\n",
      "0         Non-trainable params\n",
      "501       Total params\n",
      "0.002     Total estimated model params size (MB)\n",
      "9         Modules in train mode\n",
      "0         Modules in eval mode\n"
     ]
    },
    {
     "data": {
      "application/vnd.jupyter.widget-view+json": {
       "model_id": "d4e0b09e794c48928bcda6519b797cd9",
       "version_major": 2,
       "version_minor": 0
      },
      "text/plain": [
       "Training: |                                                                                      | 0/? [00:00<…"
      ]
     },
     "metadata": {},
     "output_type": "display_data"
    },
    {
     "name": "stderr",
     "output_type": "stream",
     "text": [
      "`Trainer.fit` stopped: `max_epochs=3000` reached.\n"
     ]
    }
   ],
   "source": [
    "trainer.train()"
   ]
  },
  {
   "cell_type": "markdown",
   "id": "9c534126-057e-4d2c-bf12-47230c1398d2",
   "metadata": {},
   "source": [
    "We may visualize our results, as shown below:"
   ]
  },
  {
   "cell_type": "code",
   "execution_count": 238,
   "id": "f1faf578-02c8-47e6-9afa-da12aea7f86b",
   "metadata": {},
   "outputs": [
    {
     "data": {
      "text/plain": [
       "MSELoss()"
      ]
     },
     "execution_count": 238,
     "metadata": {},
     "output_type": "execute_result"
    }
   ],
   "source": [
    "pinn.loss"
   ]
  },
  {
   "cell_type": "code",
   "execution_count": 241,
   "id": "de8d8f18-7da7-4a7b-82de-0c73e00f15bb",
   "metadata": {},
   "outputs": [
    {
     "data": {
      "image/png": "[encoded data removed]",
      "text/plain": [
       "<Figure size 640x480 with 1 Axes>"
      ]
     },
     "metadata": {},
     "output_type": "display_data"
    }
   ],
   "source": [
    "plot_solution(solver=pinn, time=0, ylim=(0, 3.5))"
   ]
  },
  {
   "cell_type": "code",
   "execution_count": 243,
   "id": "1939cadc-1100-49d9-9aa9-7cfdb48bd8bd",
   "metadata": {},
   "outputs": [
    {
     "data": {
      "image/png": "[encoded data removed]",
      "text/plain": [
       "<Figure size 640x480 with 1 Axes>"
      ]
     },
     "metadata": {},
     "output_type": "display_data"
    }
   ],
   "source": [
    "plot_solution(pinn, time=10)"
   ]
  },
  {
   "cell_type": "code",
   "execution_count": 223,
   "id": "9f1393f6-f90a-4ac3-9efc-dea30120d2a5",
   "metadata": {},
   "outputs": [
    {
     "name": "stderr",
     "output_type": "stream",
     "text": [
      "\n",
      "  0%|                                                                                           | 0/50 [00:00<?, ?it/s]\u001b[A\n",
      "  2%|█▋                                                                                 | 1/50 [00:00<00:19,  2.56it/s]\u001b[A\n",
      "  4%|███▎                                                                               | 2/50 [00:00<00:17,  2.79it/s]\u001b[A\n",
      "  6%|████▉                                                                              | 3/50 [00:01<00:16,  2.82it/s]\u001b[A\n",
      "  8%|██████▋                                                                            | 4/50 [00:01<00:15,  2.92it/s]\u001b[A\n",
      " 10%|████████▎                                                                          | 5/50 [00:01<00:15,  2.93it/s]\u001b[A\n",
      " 12%|█████████▉                                                                         | 6/50 [00:02<00:14,  2.94it/s]\u001b[A\n",
      " 14%|███████████▌                                                                       | 7/50 [00:02<00:14,  2.95it/s]\u001b[A\n",
      " 16%|█████████████▎                                                                     | 8/50 [00:02<00:14,  2.98it/s]\u001b[A\n",
      " 18%|██████████████▉                                                                    | 9/50 [00:03<00:13,  2.98it/s]\u001b[A\n",
      " 20%|████████████████▍                                                                 | 10/50 [00:03<00:13,  3.01it/s]\u001b[A\n",
      " 22%|██████████████████                                                                | 11/50 [00:03<00:13,  2.86it/s]\u001b[A\n",
      " 24%|███████████████████▋                                                              | 12/50 [00:04<00:13,  2.90it/s]\u001b[A\n",
      " 26%|█████████████████████▎                                                            | 13/50 [00:04<00:12,  2.94it/s]\u001b[A\n",
      " 28%|██████████████████████▉                                                           | 14/50 [00:04<00:12,  2.94it/s]\u001b[A\n",
      " 30%|████████████████████████▌                                                         | 15/50 [00:05<00:11,  2.96it/s]\u001b[A\n",
      " 32%|██████████████████████████▏                                                       | 16/50 [00:05<00:11,  2.94it/s]\u001b[A\n",
      " 34%|███████████████████████████▉                                                      | 17/50 [00:05<00:11,  2.93it/s]\u001b[A\n",
      " 36%|█████████████████████████████▌                                                    | 18/50 [00:06<00:11,  2.90it/s]\u001b[A\n",
      " 38%|███████████████████████████████▏                                                  | 19/50 [00:06<00:10,  2.86it/s]\u001b[A\n",
      " 40%|████████████████████████████████▊                                                 | 20/50 [00:06<00:10,  2.91it/s]\u001b[A\n",
      " 42%|██████████████████████████████████▍                                               | 21/50 [00:07<00:10,  2.89it/s]\u001b[A\n",
      " 44%|████████████████████████████████████                                              | 22/50 [00:07<00:09,  2.95it/s]\u001b[A\n",
      " 46%|█████████████████████████████████████▋                                            | 23/50 [00:07<00:09,  2.96it/s]\u001b[A\n",
      " 48%|███████████████████████████████████████▎                                          | 24/50 [00:08<00:09,  2.85it/s]\u001b[A\n",
      " 50%|█████████████████████████████████████████                                         | 25/50 [00:08<00:08,  2.90it/s]\u001b[A\n",
      " 52%|██████████████████████████████████████████▋                                       | 26/50 [00:08<00:08,  2.85it/s]\u001b[A\n",
      " 54%|████████████████████████████████████████████▎                                     | 27/50 [00:09<00:08,  2.83it/s]\u001b[A\n",
      " 56%|█████████████████████████████████████████████▉                                    | 28/50 [00:09<00:08,  2.73it/s]\u001b[A\n",
      " 58%|███████████████████████████████████████████████▌                                  | 29/50 [00:10<00:07,  2.67it/s]\u001b[A\n",
      " 60%|█████████████████████████████████████████████████▏                                | 30/50 [00:10<00:07,  2.73it/s]\u001b[A\n",
      " 62%|██████████████████████████████████████████████████▊                               | 31/50 [00:10<00:07,  2.67it/s]\u001b[A\n",
      " 64%|████████████████████████████████████████████████████▍                             | 32/50 [00:11<00:06,  2.76it/s]\u001b[A\n",
      " 66%|██████████████████████████████████████████████████████                            | 33/50 [00:11<00:06,  2.76it/s]\u001b[A\n",
      " 68%|███████████████████████████████████████████████████████▊                          | 34/50 [00:11<00:05,  2.74it/s]\u001b[A\n",
      " 70%|█████████████████████████████████████████████████████████▍                        | 35/50 [00:12<00:05,  2.68it/s]\u001b[A\n",
      " 72%|███████████████████████████████████████████████████████████                       | 36/50 [00:12<00:05,  2.79it/s]\u001b[A\n",
      " 74%|████████████████████████████████████████████████████████████▋                     | 37/50 [00:12<00:04,  2.75it/s]\u001b[A\n",
      " 76%|██████████████████████████████████████████████████████████████▎                   | 38/50 [00:13<00:04,  2.75it/s]\u001b[A\n",
      " 78%|███████████████████████████████████████████████████████████████▉                  | 39/50 [00:13<00:03,  2.77it/s]\u001b[A\n",
      " 80%|█████████████████████████████████████████████████████████████████▌                | 40/50 [00:14<00:03,  2.77it/s]\u001b[A\n",
      " 82%|███████████████████████████████████████████████████████████████████▏              | 41/50 [00:14<00:03,  2.78it/s]\u001b[A\n",
      " 84%|████████████████████████████████████████████████████████████████████▉             | 42/50 [00:14<00:02,  2.85it/s]\u001b[A\n",
      " 86%|██████████████████████████████████████████████████████████████████████▌           | 43/50 [00:15<00:02,  2.90it/s]\u001b[A\n",
      " 88%|████████████████████████████████████████████████████████████████████████▏         | 44/50 [00:15<00:02,  2.90it/s]\u001b[A\n",
      " 90%|█████████████████████████████████████████████████████████████████████████▊        | 45/50 [00:15<00:01,  2.94it/s]\u001b[A\n",
      " 92%|███████████████████████████████████████████████████████████████████████████▍      | 46/50 [00:16<00:01,  2.93it/s]\u001b[A\n",
      " 94%|█████████████████████████████████████████████████████████████████████████████     | 47/50 [00:16<00:01,  2.93it/s]\u001b[A\n",
      " 96%|██████████████████████████████████████████████████████████████████████████████▋   | 48/50 [00:16<00:00,  2.92it/s]\u001b[A\n",
      " 98%|████████████████████████████████████████████████████████████████████████████████▎ | 49/50 [00:17<00:00,  2.95it/s]\u001b[A\n",
      "100%|██████████████████████████████████████████████████████████████████████████████████| 50/50 [00:17<00:00,  2.86it/s]\u001b[A\n"
     ]
    },
    {
     "data": {
      "image/png": "[encoded data removed]",
      "text/plain": [
       "<Figure size 640x480 with 1 Axes>"
      ]
     },
     "metadata": {},
     "output_type": "display_data"
    }
   ],
   "source": [
    "# save frames (which can be joined into a gif)\n",
    "t_end = 10\n",
    "frames = 50\n",
    "for frame in trange(frames):\n",
    "    t = frame * t_end/frames\n",
    "    plot_solution(pinn, t, savename=f\"data/wave_eq_frame_{frame}.png\")"
   ]
  },
  {
   "cell_type": "markdown",
   "id": "9ddc0d87-340a-46c2-b30f-b2f59440b8fb",
   "metadata": {},
   "source": [
    "## Nonlinear wave equation"
   ]
  },
  {
   "cell_type": "markdown",
   "id": "46f52c17-1483-42b7-a4f4-7cdb26e8fd37",
   "metadata": {},
   "source": [
    "For this second part, we have another initial-boundary-value problem, but this time for the nonlinear variant of the wave equation, $u_{tt} = c^2 u_{xx} + \\epsilon u^2$ (where $\\epsilon \\ll 1$):\n",
    "\n",
    "$$\n",
    "\\begin{gather*}\n",
    "u(x, 0) = A e^{-\\beta x^2} \\\\\n",
    "\\dfrac{\\partial u}{\\partial t}(x, 0) = 0, \\\\\n",
    "u(x) = u(x + L), \\\\\n",
    "x \\in (-\\infty, \\infty)\n",
    "\\end{gather*}\n",
    "$$\n",
    "\n",
    "There is no analytical solution; the PDE must be solved numerically. For reference, compare against the solution from [this online simulator](https://visualpde.com/sim/?options=N4IghgagliBcCMAaEAjMcQGcC2B7XALgBYBOApgA4A2YAxmSMgShgG5VQB2DytAInAIkArmWQATAKqSMAYQBUAiRBmwQSkOIgQMABkaaA6ob0HxBOLoB0u3QCZeqkPAMBrDHwAEAXk-xPnlwBANpIfrYAugDcsj6e1rrwUa5xCbaJUQYUACoYHNxZcsKYBLjYWSS4KGQAYsKcGMIVVWQAMmScAObEcABsusgkTqwGJDpqKfKewgB6dqMmavrII7DBoGAklQDusrhUuMIkfQCsJwDMJ8ibO3wdmFAEAJ6WVlfgW7jb7V3EALJgAAeGBc10+2wAyrQwFQGGowMJSgYbl8ABoYVoAfUBAHo7J4ALSeYFgnYATQxmKeeMJnhe10RuAhZAIewORwASmAunCAGYwzBiEDQ7BkEhgbJEFnoWDnAbCsCi8UABSIMFl8pFYrAAC18OVYNYABy8faHEjYMAUDAEI4oXAGWhmu2bOD8qiC02cUpHTBugVCp3e81s82WL0+kgAUQoDwODUNNiQwtwwaOADlhAb3rRiqVsBCjvz6P6PUKyNh7Zg-bB3Z6QBWq5gAIKVqAdCyJ96N3DVvhQXm84pw6y9ZA96uq9XwN4Adl0Jobld7mAhas4LwQ8onq7whCI3GrrwcS6bEIoZFzNGOiZPO8l0tes6NJwALMheRwKBfxKGjpbrVrANkHyMhDCgcwiD+YQqDgZNLUBP8xhhUQQRsAxsC4JCIBQuEQASAxcFYMUaE3OshSIkiwCeJDwxASiSFImM41TV5bHeBimMBCgb2cQjiMY6jWi4MCIP+GC4OQahCGyJ4LwwahuR4EAeKqLhOlLetVOqOoExAJopMqaofm6Ig+nlbSyFk+S1C4AgyE6cVYMMlp0SWZpqgpdzkEwIs6FqepTCYUgyDIPgAAkyCgToiAIKEYRHKxZxWS9ShIGp2yocRNKFbYiDAAhslwZUDk7EARmQThFTwlwAF9EA2cFaNgXozkuUkvjuTgHmeV53hRb4OlMgFgTUUEPh2eLYQwBEkQ67Y3JALFcXxIkSQmr4vKWqkaSJelwEZZlWWdEguR5HLeGq8UHwIGU5UupUwCnOB7oVR69TKV5FyddkLStG07QdU1frQG9yIjc0a3BlM0xIZrNVTSNmKgeM2OTINI0zbNeDzMpCxIYs+WA08Vwuknq1bFB229Prx2XPsByHQVXjHcnMGehA5wXOmz3XTd4G3end3wYhDxraw7yF89Lxg11bx5lcbplaxnzfD8vx-JCALJ0DwMg6DYIQZAEOw3C0OWEBMM4U2qFQpZ0OQTjqLJp2aJOujXeR1HE3Yx2BK4niQX4qinmE7g9fEw3k2kwq5Lw0CPPUsnLN0xoPLaIaehaiyjKsuOMDshynPTxaLcsraLd8gn-NT7yQGIcgwsi6LYqmxLkvK1LcHSzLsqAstkDygqipKwg2AMKrRTgOxaoiHyoGwbJHmmtRDDAYjPDIABHYQCqgVjaqAA)."
   ]
  },
  {
   "cell_type": "code",
   "execution_count": 583,
   "id": "9b406de6-4f36-4d1d-9f9a-87e97ec360a0",
   "metadata": {},
   "outputs": [],
   "source": [
    "constants[\"A\"] = 1\n",
    "constants[\"epsilon\"] = 0.5\n",
    "constants[\"c\"] = 2\n",
    "t_end_alt = 5 # only up to 5 seconds to prevent numerical instabilities"
   ]
  },
  {
   "cell_type": "code",
   "execution_count": 632,
   "id": "ca154fd8-f6e7-4447-85b4-4b4e5e6f505d",
   "metadata": {},
   "outputs": [
    {
     "data": {
      "text/plain": [
       "{'c': 2, 'A': 1, 'beta': 3.0, 't_end': 10.0, 'epsilon': 0.5, 'period': 1.5}"
      ]
     },
     "execution_count": 632,
     "metadata": {},
     "output_type": "execute_result"
    }
   ],
   "source": [
    "constants"
   ]
  },
  {
   "cell_type": "code",
   "execution_count": 584,
   "id": "b6ee655b-6d2b-4714-8ea1-aed44312d444",
   "metadata": {},
   "outputs": [],
   "source": [
    "def wave_equation_nonlinear(input_, output_, c=constants[\"c\"], eps=constants[\"epsilon\"]):\n",
    "    u = output_.extract([\"u\"])\n",
    "    u_t = grad(output_, input_, components=[\"u\"], d=[\"t\"])\n",
    "    u_tt = grad(u_t, input_, components=[\"dudt\"], d=[\"t\"])\n",
    "    u_x = grad(output_, input_, components=[\"u\"], d=[\"x\"])\n",
    "    u_xx = grad(u_x, input_, components=[\"dudx\"], d=[\"x\"])\n",
    "    return u_tt - (c**2 * u_xx + eps * u**2)"
   ]
  },
  {
   "cell_type": "code",
   "execution_count": 585,
   "id": "83ed77e9-ea2c-46a4-bc98-b630d172c064",
   "metadata": {},
   "outputs": [],
   "source": [
    "def central_point_cond(input_, output_, A=constants[\"A\"]):\n",
    "    u = output_.extract([\"u\"])\n",
    "    return u - A # (should be zero at t=0, x=0)"
   ]
  },
  {
   "cell_type": "code",
   "execution_count": 599,
   "id": "78cf1469-7ffc-4aa1-b7ee-8e84937d1236",
   "metadata": {},
   "outputs": [],
   "source": [
    "class NonlinearWaves(SpatialProblem, TimeDependentProblem):\n",
    "    output_variables = [\"u\"]\n",
    "    spatial_domain = CartesianDomain({\"x\": [-infty, infty]})\n",
    "    temporal_domain = CartesianDomain({\"t\": [0.0, t_end_alt]})\n",
    "    dx = 0.5 # to ensure that at initial time, we match initial cond\n",
    "    domains = {\n",
    "        \"D\": CartesianDomain({\"x\": [-infty, infty], \"t\": [0.0, t_end_alt]}), # general domain\n",
    "        \"D0\": CartesianDomain({\"x\": [-infty, infty], \"t\": 0.0}), # initial cond. 1\n",
    "        \"Dx0\": CartesianDomain({\"x\": [-infty, infty], \"t\": 0.0}), # initial cond. 2\n",
    "        \"central\": CartesianDomain({\"x\": [-dx, dx], \"t\": 0.0})\n",
    "    }\n",
    "\n",
    "    conditions = {\n",
    "        \"D\": Condition(domain=\"D\", equation=Equation(wave_equation_nonlinear)),\n",
    "        \"ic1\": Condition(domain=\"D0\", equation=Equation(initial_cond_1)),\n",
    "        \"ic2\": Condition(domain=\"Dx0\", equation=Equation(initial_cond_2)),\n",
    "        \"central_fixed\": Condition(domain=\"central\", equation=Equation(central_point_cond))\n",
    "    }"
   ]
  },
  {
   "cell_type": "code",
   "execution_count": 619,
   "id": "02685a84-c9c0-447c-859c-3304e235f45c",
   "metadata": {},
   "outputs": [],
   "source": [
    "nonlin_wave_problem = NonlinearWaves()"
   ]
  },
  {
   "cell_type": "code",
   "execution_count": 620,
   "id": "2d543f6e-5ac9-4d79-abb3-b9ef784f6b60",
   "metadata": {},
   "outputs": [],
   "source": [
    "nonlin_model = FeedForward(len(nonlin_wave_problem.input_variables), \n",
    "                           len(nonlin_wave_problem.output_variables),\n",
    "                           inner_size=30,\n",
    "                           n_layers=4)"
   ]
  },
  {
   "cell_type": "code",
   "execution_count": 621,
   "id": "5c40f335-3a2f-4000-aeca-902c3459a390",
   "metadata": {},
   "outputs": [
    {
     "data": {
      "text/plain": [
       "FeedForward(\n",
       "  (model): Sequential(\n",
       "    (0): Linear(in_features=2, out_features=30, bias=True)\n",
       "    (1): Tanh()\n",
       "    (2): Linear(in_features=30, out_features=30, bias=True)\n",
       "    (3): Tanh()\n",
       "    (4): Linear(in_features=30, out_features=30, bias=True)\n",
       "    (5): Tanh()\n",
       "    (6): Linear(in_features=30, out_features=30, bias=True)\n",
       "    (7): Tanh()\n",
       "    (8): Linear(in_features=30, out_features=1, bias=True)\n",
       "  )\n",
       ")"
      ]
     },
     "execution_count": 621,
     "metadata": {},
     "output_type": "execute_result"
    }
   ],
   "source": [
    "nonlin_model"
   ]
  },
  {
   "cell_type": "code",
   "execution_count": 622,
   "id": "971785f3-9eca-4e84-a91a-843ee31af7a2",
   "metadata": {},
   "outputs": [],
   "source": [
    "nonlin_wave_problem.discretise_domain(10000, \"random\", domains=\"all\")"
   ]
  },
  {
   "cell_type": "code",
   "execution_count": 623,
   "id": "c71e54be-7c8a-4d81-8887-88907d11b99c",
   "metadata": {},
   "outputs": [],
   "source": [
    "pinn_nonlin = PINN(nonlin_wave_problem, nonlin_model, TorchOptimizer(torch.optim.Adam, lr=0.005))"
   ]
  },
  {
   "cell_type": "code",
   "execution_count": 624,
   "id": "956562c5-70aa-49b1-8b04-fbe6780557ec",
   "metadata": {},
   "outputs": [
    {
     "name": "stderr",
     "output_type": "stream",
     "text": [
      "You are using the plain ModelCheckpoint callback. Consider using LitModelCheckpoint which with seamless uploading to Model registry.\n",
      "GPU available: False, used: False\n",
      "TPU available: False, using: 0 TPU cores\n",
      "HPU available: False, using: 0 HPUs\n",
      "C:\\Users\\Jacky\\AppData\\Local\\Programs\\Python\\Python312\\Lib\\site-packages\\lightning\\pytorch\\trainer\\configuration_validator.py: PossibleUserWarning: You defined a `validation_step` but have no `val_dataloader`. Skipping val loop.\n",
      "\n",
      "  | Name         | Type       | Params | Mode \n",
      "----------------------------------------------------\n",
      "0 | _pina_models | ModuleList | 2.9 K  | train\n",
      "1 | _loss        | MSELoss    | 0      | train\n",
      "----------------------------------------------------\n",
      "2.9 K     Trainable params\n",
      "0         Non-trainable params\n",
      "2.9 K     Total params\n",
      "0.012     Total estimated model params size (MB)\n",
      "13        Modules in train mode\n",
      "0         Modules in eval mode\n"
     ]
    },
    {
     "data": {
      "application/vnd.jupyter.widget-view+json": {
       "model_id": "e644466224684189a16c74c349b41008",
       "version_major": 2,
       "version_minor": 0
      },
      "text/plain": [
       "Training: |                                                                                      | 0/? [00:00<…"
      ]
     },
     "metadata": {},
     "output_type": "display_data"
    },
    {
     "name": "stderr",
     "output_type": "stream",
     "text": [
      "`Trainer.fit` stopped: `max_epochs=1000` reached.\n"
     ]
    }
   ],
   "source": [
    "trainer = Trainer(\n",
    "    pinn_nonlin,\n",
    "    max_epochs=1000,\n",
    "    accelerator=\"cpu\",\n",
    "    enable_model_summary=True,\n",
    "    train_size=1.0,\n",
    ")\n",
    "trainer.train()"
   ]
  },
  {
   "cell_type": "code",
   "execution_count": 629,
   "id": "451db48d-69cc-4ac5-9efa-b96f82d6f5a7",
   "metadata": {},
   "outputs": [
    {
     "data": {
      "image/png": "[encoded data removed]",
      "text/plain": [
       "<Figure size 640x480 with 1 Axes>"
      ]
     },
     "metadata": {},
     "output_type": "display_data"
    }
   ],
   "source": [
    "plot_solution(pinn_nonlin, time=10, analytical_exists=False, ylim=(0, 1.1))"
   ]
  },
  {
   "cell_type": "code",
   "execution_count": 249,
   "id": "5766bad3-e3a5-4917-884f-0380be0a86f5",
   "metadata": {},
   "outputs": [],
   "source": [
    "# save results\n",
    "# so no need to re-train later\n",
    "wave_eq_problem_two = {\n",
    "    \"name\": \"Wave equation problem 2 (nonlinear)\",\n",
    "    \"pinn_solver\": pinn_nonlin,\n",
    "}"
   ]
  },
  {
   "cell_type": "code",
   "execution_count": 87,
   "id": "25c0caee-09f3-42e5-b590-a7a5d858b0a0",
   "metadata": {},
   "outputs": [],
   "source": [
    "# with open(\"reference-problem-2.pkl\", \"wb\") as f:\n",
    "#     pickle.dump(wave_eq_problem_two, f)"
   ]
  },
  {
   "cell_type": "code",
   "execution_count": 243,
   "id": "5281bcf6-9f06-4f74-889b-9d290de79c50",
   "metadata": {},
   "outputs": [],
   "source": [
    "# example loading datafile\n",
    "# only run if you're loading from datafile\n",
    "# and you already have a datafile saved from\n",
    "# previous step\n",
    "with open(\"reference-problem-2.pkl\", \"rb\") as f:\n",
    "    wave_eq_problem_two = pickle.load(f)[\"problem\"]"
   ]
  },
  {
   "cell_type": "code",
   "execution_count": 631,
   "id": "8b0ed8c9-3670-429e-bcfa-2fcfcbde382e",
   "metadata": {},
   "outputs": [
    {
     "name": "stderr",
     "output_type": "stream",
     "text": [
      "\n",
      "  0%|                                                                                           | 0/50 [00:00<?, ?it/s]\u001b[A\n",
      "  2%|█▋                                                                                 | 1/50 [00:00<00:27,  1.81it/s]\u001b[A\n",
      "  4%|███▎                                                                               | 2/50 [00:01<00:23,  2.04it/s]\u001b[A\n",
      "  6%|████▉                                                                              | 3/50 [00:01<00:21,  2.15it/s]\u001b[A\n",
      "  8%|██████▋                                                                            | 4/50 [00:01<00:21,  2.17it/s]\u001b[A\n",
      " 10%|████████▎                                                                          | 5/50 [00:02<00:22,  2.00it/s]\u001b[A\n",
      " 12%|█████████▉                                                                         | 6/50 [00:03<00:22,  1.94it/s]\u001b[A\n",
      " 14%|███████████▌                                                                       | 7/50 [00:03<00:21,  1.96it/s]\u001b[A\n",
      " 16%|█████████████▎                                                                     | 8/50 [00:03<00:20,  2.01it/s]\u001b[A\n",
      " 18%|██████████████▉                                                                    | 9/50 [00:04<00:20,  2.02it/s]\u001b[A\n",
      " 20%|████████████████▍                                                                 | 10/50 [00:04<00:19,  2.01it/s]\u001b[A\n",
      " 22%|██████████████████                                                                | 11/50 [00:05<00:18,  2.06it/s]\u001b[A\n",
      " 24%|███████████████████▋                                                              | 12/50 [00:05<00:19,  1.96it/s]\u001b[A\n",
      " 26%|█████████████████████▎                                                            | 13/50 [00:06<00:18,  2.00it/s]\u001b[A\n",
      " 28%|██████████████████████▉                                                           | 14/50 [00:07<00:18,  1.95it/s]\u001b[A\n",
      " 30%|████████████████████████▌                                                         | 15/50 [00:07<00:17,  1.97it/s]\u001b[A\n",
      " 32%|██████████████████████████▏                                                       | 16/50 [00:07<00:16,  2.05it/s]\u001b[A\n",
      " 34%|███████████████████████████▉                                                      | 17/50 [00:08<00:16,  2.05it/s]\u001b[A\n",
      " 36%|█████████████████████████████▌                                                    | 18/50 [00:08<00:16,  2.00it/s]\u001b[A\n",
      " 38%|███████████████████████████████▏                                                  | 19/50 [00:09<00:15,  2.05it/s]\u001b[A\n",
      " 40%|████████████████████████████████▊                                                 | 20/50 [00:09<00:14,  2.05it/s]\u001b[A\n",
      " 42%|██████████████████████████████████▍                                               | 21/50 [00:10<00:14,  2.03it/s]\u001b[A\n",
      " 44%|████████████████████████████████████                                              | 22/50 [00:10<00:13,  2.05it/s]\u001b[A\n",
      " 46%|█████████████████████████████████████▋                                            | 23/50 [00:11<00:12,  2.10it/s]\u001b[A\n",
      " 48%|███████████████████████████████████████▎                                          | 24/50 [00:11<00:12,  2.11it/s]\u001b[A\n",
      " 50%|█████████████████████████████████████████                                         | 25/50 [00:12<00:11,  2.12it/s]\u001b[A\n",
      " 52%|██████████████████████████████████████████▋                                       | 26/50 [00:12<00:11,  2.10it/s]\u001b[A\n",
      " 54%|████████████████████████████████████████████▎                                     | 27/50 [00:13<00:10,  2.14it/s]\u001b[A\n",
      " 56%|█████████████████████████████████████████████▉                                    | 28/50 [00:13<00:10,  2.13it/s]\u001b[A\n",
      " 58%|███████████████████████████████████████████████▌                                  | 29/50 [00:14<00:09,  2.16it/s]\u001b[A\n",
      " 60%|█████████████████████████████████████████████████▏                                | 30/50 [00:14<00:09,  2.17it/s]\u001b[A\n",
      " 62%|██████████████████████████████████████████████████▊                               | 31/50 [00:15<00:08,  2.18it/s]\u001b[A\n",
      " 64%|████████████████████████████████████████████████████▍                             | 32/50 [00:15<00:08,  2.10it/s]\u001b[A\n",
      " 66%|██████████████████████████████████████████████████████                            | 33/50 [00:16<00:08,  2.09it/s]\u001b[A\n",
      " 68%|███████████████████████████████████████████████████████▊                          | 34/50 [00:16<00:07,  2.03it/s]\u001b[A\n",
      " 70%|█████████████████████████████████████████████████████████▍                        | 35/50 [00:17<00:07,  2.05it/s]\u001b[A\n",
      " 72%|███████████████████████████████████████████████████████████                       | 36/50 [00:17<00:06,  2.10it/s]\u001b[A\n",
      " 74%|████████████████████████████████████████████████████████████▋                     | 37/50 [00:17<00:06,  2.11it/s]\u001b[A\n",
      " 76%|██████████████████████████████████████████████████████████████▎                   | 38/50 [00:18<00:05,  2.11it/s]\u001b[A\n",
      " 78%|███████████████████████████████████████████████████████████████▉                  | 39/50 [00:18<00:05,  2.18it/s]\u001b[A\n",
      " 80%|█████████████████████████████████████████████████████████████████▌                | 40/50 [00:19<00:04,  2.15it/s]\u001b[A\n",
      " 82%|███████████████████████████████████████████████████████████████████▏              | 41/50 [00:19<00:04,  2.10it/s]\u001b[A\n",
      " 84%|████████████████████████████████████████████████████████████████████▉             | 42/50 [00:20<00:03,  2.10it/s]\u001b[A\n",
      " 86%|██████████████████████████████████████████████████████████████████████▌           | 43/50 [00:20<00:03,  2.13it/s]\u001b[A\n",
      " 88%|████████████████████████████████████████████████████████████████████████▏         | 44/50 [00:21<00:02,  2.12it/s]\u001b[A\n",
      " 90%|█████████████████████████████████████████████████████████████████████████▊        | 45/50 [00:21<00:02,  2.14it/s]\u001b[A\n",
      " 92%|███████████████████████████████████████████████████████████████████████████▍      | 46/50 [00:22<00:01,  2.15it/s]\u001b[A\n",
      " 94%|█████████████████████████████████████████████████████████████████████████████     | 47/50 [00:22<00:01,  2.19it/s]\u001b[A\n",
      " 96%|██████████████████████████████████████████████████████████████████████████████▋   | 48/50 [00:23<00:00,  2.18it/s]\u001b[A\n",
      " 98%|████████████████████████████████████████████████████████████████████████████████▎ | 49/50 [00:23<00:00,  2.16it/s]\u001b[A\n",
      "100%|██████████████████████████████████████████████████████████████████████████████████| 50/50 [00:24<00:00,  2.08it/s]\u001b[A\n"
     ]
    },
    {
     "data": {
      "image/png": "[encoded data removed]",
      "text/plain": [
       "<Figure size 640x480 with 1 Axes>"
      ]
     },
     "metadata": {},
     "output_type": "display_data"
    }
   ],
   "source": [
    "# save frames (which can be joined into a gif)\n",
    "frames = 50\n",
    "for frame in trange(frames):\n",
    "    t = frame * t_end/frames\n",
    "    plot_solution(pinn_nonlin, t, savename=f\"data/nonlinear_wave_eq_frame_{frame}.png\", analytical_exists=False)"
   ]
  }
 ],
 "metadata": {
  "kernelspec": {
   "display_name": "Python 3 (ipykernel)",
   "language": "python",
   "name": "python3"
  },
  "language_info": {
   "codemirror_mode": {
    "name": "ipython",
    "version": 3
   },
   "file_extension": ".py",
   "mimetype": "text/x-python",
   "name": "python",
   "nbconvert_exporter": "python",
   "pygments_lexer": "ipython3",
   "version": "3.12.5"
  }
 },
 "nbformat": 4,
 "nbformat_minor": 5
}
